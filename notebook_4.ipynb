{
 "cells": [
  {
   "cell_type": "code",
   "execution_count": 212,
   "id": "6db8d075-fe52-4b58-b1a2-a4f0e5b44229",
   "metadata": {},
   "outputs": [],
   "source": [
    "## Importing libraries \n",
    "import eli5\n",
    "\n",
    "import time\n",
    "import warnings\n",
    "warnings.filterwarnings('ignore')\n",
    "\n",
    "\n",
    "import pandas as pd\n",
    "import numpy as np\n",
    "\n",
    "import matplotlib.pyplot as plt\n",
    "import seaborn as sns\n",
    "plt.style.use(\"ggplot\")\n",
    "%matplotlib inline\n",
    "\n",
    "\n",
    "import optuna\n",
    "from optuna.integration import LightGBMPruningCallback, CatBoostPruningCallback\n",
    "optuna.logging.set_verbosity(optuna.logging.WARNING)\n",
    "\n",
    "import plotly.express as px\n",
    "\n",
    "from sklearn.model_selection import train_test_split\n",
    "from sklearn.model_selection import KFold, RepeatedKFold\n",
    "\n",
    "from sklearn.linear_model import LinearRegression\n",
    "from sklearn.ensemble import HistGradientBoostingRegressor\n",
    "\n",
    "from sklearn.preprocessing import OrdinalEncoder, RobustScaler\n",
    "from sklearn.experimental import enable_iterative_imputer\n",
    "from sklearn.impute import IterativeImputer\n",
    "\n",
    "from sklearn.metrics import mean_squared_error\n",
    "\n",
    "from sklearn.pipeline import Pipeline, make_pipeline \n",
    "from sklearn.compose import make_column_transformer\n",
    "from sklearn.compose import make_column_selector\n",
    "\n",
    "\n",
    "from xgboost import DMatrix, XGBRegressor\n",
    "from catboost import Pool, CatBoostRegressor\n",
    "from lightgbm import LGBMRegressor, DaskLGBMRegressor"
   ]
  },
  {
   "cell_type": "code",
   "execution_count": null,
   "id": "a5b787b7-f652-486f-9a02-29f84cc7a166",
   "metadata": {},
   "outputs": [],
   "source": []
  },
  {
   "cell_type": "markdown",
   "id": "a90fd73f-3d40-43e5-a3ba-c6ff241356bf",
   "metadata": {},
   "source": [
    "## Reading the data"
   ]
  },
  {
   "cell_type": "code",
   "execution_count": 346,
   "id": "cc181b08-93dd-4667-b78b-a03f76d98eeb",
   "metadata": {},
   "outputs": [],
   "source": [
    "train = pd.read_csv(\"Train.csv\")\n",
    "\n",
    "test = pd.read_csv(\"Test.csv\")\n",
    "sub = pd.read_csv(\"SampleSubmission (1).csv\")\n",
    "vard = pd.read_csv(\"VariableDescription.csv\")"
   ]
  },
  {
   "cell_type": "code",
   "execution_count": 214,
   "id": "43d78003-0fe3-48b6-8952-9e35f45e3594",
   "metadata": {},
   "outputs": [
    {
     "data": {
      "text/html": [
       "<div>\n",
       "<style scoped>\n",
       "    .dataframe tbody tr th:only-of-type {\n",
       "        vertical-align: middle;\n",
       "    }\n",
       "\n",
       "    .dataframe tbody tr th {\n",
       "        vertical-align: top;\n",
       "    }\n",
       "\n",
       "    .dataframe thead th {\n",
       "        text-align: right;\n",
       "    }\n",
       "</style>\n",
       "<table border=\"1\" class=\"dataframe\">\n",
       "  <thead>\n",
       "    <tr style=\"text-align: right;\">\n",
       "      <th></th>\n",
       "      <th>child_id</th>\n",
       "      <th>data_year</th>\n",
       "      <th>child_date</th>\n",
       "      <th>child_age</th>\n",
       "      <th>child_enrolment_date</th>\n",
       "      <th>child_months_enrolment</th>\n",
       "      <th>child_grant</th>\n",
       "      <th>child_years_in_programme</th>\n",
       "      <th>child_height</th>\n",
       "      <th>child_observe_attentive</th>\n",
       "      <th>...</th>\n",
       "      <th>obs_cooking_5</th>\n",
       "      <th>obs_cooking_6</th>\n",
       "      <th>obs_heating_1</th>\n",
       "      <th>obs_heating_2</th>\n",
       "      <th>obs_heating_3</th>\n",
       "      <th>obs_heating_4</th>\n",
       "      <th>obs_heating_5</th>\n",
       "      <th>obs_heating_6</th>\n",
       "      <th>obs_heating_7</th>\n",
       "      <th>target</th>\n",
       "    </tr>\n",
       "  </thead>\n",
       "  <tbody>\n",
       "    <tr>\n",
       "      <th>0</th>\n",
       "      <td>ID_SYSJ2FM0D</td>\n",
       "      <td>2022.0</td>\n",
       "      <td>2022-02-03</td>\n",
       "      <td>59.000000</td>\n",
       "      <td>NaN</td>\n",
       "      <td>NaN</td>\n",
       "      <td>NaN</td>\n",
       "      <td>NaN</td>\n",
       "      <td>NaN</td>\n",
       "      <td>Sometimes</td>\n",
       "      <td>...</td>\n",
       "      <td>NaN</td>\n",
       "      <td>NaN</td>\n",
       "      <td>NaN</td>\n",
       "      <td>NaN</td>\n",
       "      <td>NaN</td>\n",
       "      <td>NaN</td>\n",
       "      <td>NaN</td>\n",
       "      <td>NaN</td>\n",
       "      <td>NaN</td>\n",
       "      <td>51.500000</td>\n",
       "    </tr>\n",
       "    <tr>\n",
       "      <th>1</th>\n",
       "      <td>ID_J5BTFOZR3</td>\n",
       "      <td>2019.0</td>\n",
       "      <td>NaN</td>\n",
       "      <td>60.163933</td>\n",
       "      <td>NaN</td>\n",
       "      <td>NaN</td>\n",
       "      <td>NaN</td>\n",
       "      <td>1st year in the programme</td>\n",
       "      <td>103.000000</td>\n",
       "      <td>Sometimes</td>\n",
       "      <td>...</td>\n",
       "      <td>NaN</td>\n",
       "      <td>NaN</td>\n",
       "      <td>NaN</td>\n",
       "      <td>NaN</td>\n",
       "      <td>NaN</td>\n",
       "      <td>NaN</td>\n",
       "      <td>NaN</td>\n",
       "      <td>NaN</td>\n",
       "      <td>NaN</td>\n",
       "      <td>55.869999</td>\n",
       "    </tr>\n",
       "    <tr>\n",
       "      <th>2</th>\n",
       "      <td>ID_R00SN7AUD</td>\n",
       "      <td>2022.0</td>\n",
       "      <td>2022-03-11</td>\n",
       "      <td>69.000000</td>\n",
       "      <td>NaN</td>\n",
       "      <td>NaN</td>\n",
       "      <td>NaN</td>\n",
       "      <td>NaN</td>\n",
       "      <td>108.400002</td>\n",
       "      <td>Often</td>\n",
       "      <td>...</td>\n",
       "      <td>NaN</td>\n",
       "      <td>NaN</td>\n",
       "      <td>NaN</td>\n",
       "      <td>NaN</td>\n",
       "      <td>NaN</td>\n",
       "      <td>NaN</td>\n",
       "      <td>NaN</td>\n",
       "      <td>NaN</td>\n",
       "      <td>NaN</td>\n",
       "      <td>47.520000</td>\n",
       "    </tr>\n",
       "    <tr>\n",
       "      <th>3</th>\n",
       "      <td>ID_BSSK60PAZ</td>\n",
       "      <td>2021.0</td>\n",
       "      <td>2021-10-13</td>\n",
       "      <td>53.000000</td>\n",
       "      <td>2020-01-15</td>\n",
       "      <td>20.0</td>\n",
       "      <td>No</td>\n",
       "      <td>1st year in the programme</td>\n",
       "      <td>98.099998</td>\n",
       "      <td>Almost always</td>\n",
       "      <td>...</td>\n",
       "      <td>NaN</td>\n",
       "      <td>NaN</td>\n",
       "      <td>NaN</td>\n",
       "      <td>NaN</td>\n",
       "      <td>NaN</td>\n",
       "      <td>NaN</td>\n",
       "      <td>NaN</td>\n",
       "      <td>NaN</td>\n",
       "      <td>NaN</td>\n",
       "      <td>58.599998</td>\n",
       "    </tr>\n",
       "    <tr>\n",
       "      <th>4</th>\n",
       "      <td>ID_IZTY6TC4D</td>\n",
       "      <td>2021.0</td>\n",
       "      <td>2021-10-13</td>\n",
       "      <td>57.000000</td>\n",
       "      <td>2021-10-13</td>\n",
       "      <td>0.0</td>\n",
       "      <td>NaN</td>\n",
       "      <td>2nd year in programme</td>\n",
       "      <td>114.000000</td>\n",
       "      <td>Almost always</td>\n",
       "      <td>...</td>\n",
       "      <td>0.0</td>\n",
       "      <td>0.0</td>\n",
       "      <td>1.0</td>\n",
       "      <td>0.0</td>\n",
       "      <td>0.0</td>\n",
       "      <td>0.0</td>\n",
       "      <td>0.0</td>\n",
       "      <td>0.0</td>\n",
       "      <td>0.0</td>\n",
       "      <td>76.599998</td>\n",
       "    </tr>\n",
       "  </tbody>\n",
       "</table>\n",
       "<p>5 rows × 679 columns</p>\n",
       "</div>"
      ],
      "text/plain": [
       "       child_id  data_year  child_date  child_age child_enrolment_date  \\\n",
       "0  ID_SYSJ2FM0D     2022.0  2022-02-03  59.000000                  NaN   \n",
       "1  ID_J5BTFOZR3     2019.0         NaN  60.163933                  NaN   \n",
       "2  ID_R00SN7AUD     2022.0  2022-03-11  69.000000                  NaN   \n",
       "3  ID_BSSK60PAZ     2021.0  2021-10-13  53.000000           2020-01-15   \n",
       "4  ID_IZTY6TC4D     2021.0  2021-10-13  57.000000           2021-10-13   \n",
       "\n",
       "   child_months_enrolment child_grant   child_years_in_programme  \\\n",
       "0                     NaN         NaN                        NaN   \n",
       "1                     NaN         NaN  1st year in the programme   \n",
       "2                     NaN         NaN                        NaN   \n",
       "3                    20.0          No  1st year in the programme   \n",
       "4                     0.0         NaN      2nd year in programme   \n",
       "\n",
       "   child_height child_observe_attentive  ... obs_cooking_5 obs_cooking_6  \\\n",
       "0           NaN               Sometimes  ...           NaN           NaN   \n",
       "1    103.000000               Sometimes  ...           NaN           NaN   \n",
       "2    108.400002                   Often  ...           NaN           NaN   \n",
       "3     98.099998           Almost always  ...           NaN           NaN   \n",
       "4    114.000000           Almost always  ...           0.0           0.0   \n",
       "\n",
       "  obs_heating_1  obs_heating_2 obs_heating_3 obs_heating_4  obs_heating_5  \\\n",
       "0           NaN            NaN           NaN           NaN            NaN   \n",
       "1           NaN            NaN           NaN           NaN            NaN   \n",
       "2           NaN            NaN           NaN           NaN            NaN   \n",
       "3           NaN            NaN           NaN           NaN            NaN   \n",
       "4           1.0            0.0           0.0           0.0            0.0   \n",
       "\n",
       "  obs_heating_6 obs_heating_7     target  \n",
       "0           NaN           NaN  51.500000  \n",
       "1           NaN           NaN  55.869999  \n",
       "2           NaN           NaN  47.520000  \n",
       "3           NaN           NaN  58.599998  \n",
       "4           0.0           0.0  76.599998  \n",
       "\n",
       "[5 rows x 679 columns]"
      ]
     },
     "execution_count": 214,
     "metadata": {},
     "output_type": "execute_result"
    }
   ],
   "source": [
    "train.head()"
   ]
  },
  {
   "cell_type": "code",
   "execution_count": 215,
   "id": "8f6921dc-5d86-43f2-baca-e2f4df976842",
   "metadata": {},
   "outputs": [
    {
     "name": "stdout",
     "output_type": "stream",
     "text": [
      "<class 'pandas.core.frame.DataFrame'>\n",
      "RangeIndex: 8585 entries, 0 to 8584\n",
      "Columns: 679 entries, child_id to target\n",
      "dtypes: float64(160), object(519)\n",
      "memory usage: 44.5+ MB\n"
     ]
    }
   ],
   "source": [
    "train.info()"
   ]
  },
  {
   "cell_type": "code",
   "execution_count": 216,
   "id": "13c65b0c-0600-46ce-aef1-e9382ef657e0",
   "metadata": {},
   "outputs": [],
   "source": [
    "df_train = train.copy()\n",
    "df_test = test.copy()"
   ]
  },
  {
   "cell_type": "code",
   "execution_count": 217,
   "id": "6e516af1-bcb2-4d27-907e-2cb326ef30a5",
   "metadata": {},
   "outputs": [],
   "source": [
    "# train.columns[train.columns.str.contains(\"observe\")].to_list()\n",
    "observe_columns =['child_observe_attentive', 'child_observe_concentrated',\n",
    "               'child_observe_diligent', 'child_observe_interested',]\n",
    "\n",
    "mapper_observe = {'Sometimes':1,\n",
    "         'Almost never':0,\n",
    "         'Often':2,\n",
    "         'Almost always':3}"
   ]
  },
  {
   "cell_type": "code",
   "execution_count": 218,
   "id": "1ff0e8d0-2e1c-42da-9458-7ff2b24e2b4f",
   "metadata": {},
   "outputs": [],
   "source": [
    "social_columns = ['teacher_social_initiative', 'teacher_social_peers',\n",
    "                'teacher_social_nonaggressive',  'teacher_social_cooperate', \n",
    "                'teacher_social_assistance', 'teacher_social_ideas', 'teacher_social_initiative']\n",
    "\n",
    "mapper_social = {'None of the time': 0,\n",
    "                 'A little of the time': 1,\n",
    "                 'Most of the time': 2,\n",
    "                 'All of the time': 3}"
   ]
  },
  {
   "cell_type": "code",
   "execution_count": 219,
   "id": "e1d3de0b-f12f-4869-b202-4388b798b07c",
   "metadata": {},
   "outputs": [],
   "source": [
    "# Function to map values to the columns\n",
    "def mapper(df, map_columns, map_values):\n",
    "    for col in map_columns:\n",
    "        df[col] = df[col].map(map_values)\n",
    "    return df"
   ]
  },
  {
   "cell_type": "code",
   "execution_count": 220,
   "id": "2ec5c3a0-67b9-4b69-aac6-1230a766917b",
   "metadata": {},
   "outputs": [],
   "source": [
    "# Mapping values\n",
    "df_train = mapper(df_train, observe_columns, mapper_observe)\n",
    "df_test = mapper(df_test, observe_columns, mapper_observe)\n",
    "\n",
    "df_train = mapper(df_train, social_columns, mapper_social)\n",
    "df_test = mapper(df_test, social_columns, mapper_social)"
   ]
  },
  {
   "cell_type": "code",
   "execution_count": 221,
   "id": "39e79da5-9d6e-434f-badf-fed8c2fc0a5e",
   "metadata": {},
   "outputs": [
    {
     "data": {
      "text/plain": [
       "Index(['child_id', 'child_date', 'child_age', 'child_enrolment_date',\n",
       "       'child_months_enrolment', 'child_grant', 'child_years_in_programme',\n",
       "       'child_height', 'child_observe_attentive', 'child_observe_concentrated',\n",
       "       'child_observe_diligent', 'child_observe_interested',\n",
       "       'child_observe_total', 'child_gender', 'child_dob', 'child_zha',\n",
       "       'child_stunted', 'child_attends', 'child_attendance', 'child_languages',\n",
       "       'child_age_group', 'pri_children_4_6_years', 'obs_toilets_children',\n",
       "       'count_children_present', 'count_children_attendance',\n",
       "       'count_children_precovid', 'count_toilets_children', 'language_child'],\n",
       "      dtype='object')"
      ]
     },
     "execution_count": 221,
     "metadata": {},
     "output_type": "execute_result"
    }
   ],
   "source": [
    "df_train.columns[df_train.columns.str.contains(\"child\")]"
   ]
  },
  {
   "cell_type": "code",
   "execution_count": 222,
   "id": "abd86a98-10c0-4450-8fad-1da61ec3ee16",
   "metadata": {},
   "outputs": [
    {
     "data": {
      "text/plain": [
       "count_staff_gender_other       3424\n",
       "pri_days                       3394\n",
       "obs_lighting_8                 6330\n",
       "count_practitioners_all        6957\n",
       "count_register_gender_other    3470\n",
       "obs_heating_3                  6324\n",
       "obs_lighting_5                 6330\n",
       "pri_difficult_see              6957\n",
       "pri_difficult_walk             6957\n",
       "obs_lighting_6                 6330\n",
       "teacher_social_initiative      8585\n",
       "dtype: int64"
      ]
     },
     "execution_count": 222,
     "metadata": {},
     "output_type": "execute_result"
    }
   ],
   "source": [
    "drop_cols = ['count_staff_gender_other',\n",
    "         'pri_days',\n",
    "         'obs_lighting_8',\n",
    "         'count_practitioners_all',\n",
    "         'count_register_gender_other',\n",
    "         'obs_heating_3',\n",
    "         'obs_lighting_5',\n",
    "         'pri_difficult_see',\n",
    "         'pri_difficult_walk',\n",
    "         'obs_lighting_6',        \n",
    "         'teacher_social_initiative',]\n",
    "df_train[drop_cols].isnull().sum()"
   ]
  },
  {
   "cell_type": "code",
   "execution_count": 274,
   "id": "e34de0c0-119b-431f-b2d2-ed285f05d913",
   "metadata": {},
   "outputs": [],
   "source": [
    "def preprocess_data(train, test):\n",
    "   # train.columns[train.columns.str.contains(\"observe\")].to_list()\n",
    "    observe_columns =['child_observe_attentive', 'child_observe_concentrated',\n",
    "                   'child_observe_diligent', 'child_observe_interested',]\n",
    "\n",
    "    mapper_observe = {'Sometimes':1,\n",
    "             'Almost never':0,\n",
    "             'Often':2,\n",
    "             'Almost always':3} \n",
    "    \n",
    "    social_columns = ['teacher_social_initiative', 'teacher_social_peers',\n",
    "                'teacher_social_nonaggressive',  'teacher_social_cooperate', \n",
    "                'teacher_social_assistance', 'teacher_social_ideas', 'teacher_social_initiative']\n",
    "\n",
    "    mapper_social = {'None of the time': 0,\n",
    "                 'A little of the time': 1,\n",
    "                 'Most of the time': 2,\n",
    "             'All of the time': 3} \n",
    "    \n",
    "    # Mapping values\n",
    "    train = mapper(train, observe_columns, mapper_observe)\n",
    "    test = mapper(test, observe_columns, mapper_observe)\n",
    "\n",
    "    train = mapper(train, social_columns, mapper_social)\n",
    "    test = mapper(test, social_columns, mapper_social) \n",
    "    \n",
    "    # Columns to drop\n",
    "    drop_cols = ['count_staff_gender_other',\n",
    "         'pri_days',\n",
    "         'obs_lighting_8',\n",
    "         'count_practitioners_all',\n",
    "         'count_register_gender_other',\n",
    "         'obs_heating_3',\n",
    "         'obs_lighting_5',\n",
    "         'pri_difficult_see',\n",
    "         'pri_difficult_walk',\n",
    "         'obs_lighting_6',        \n",
    "         'teacher_social_initiative',]\n",
    "    \n",
    "    train.drop(columns=drop_cols, axis=1, inplace=True)\n",
    "    test.drop(columns=drop_cols, axis=1, inplace=True)\n",
    "    \n",
    "    return train, test"
   ]
  },
  {
   "cell_type": "code",
   "execution_count": 223,
   "id": "96fb0d67-cca8-49ba-9757-d1329b90be2b",
   "metadata": {},
   "outputs": [],
   "source": [
    "# df_train[\"child_gender_male\"] = df_train[\"child_gender\"].map({\"Male\":1,\n",
    "#                                                        \"Female\": 0})\n",
    "# df_test[\"child_gender_male\"] = df_test[\"child_gender\"].map({\"Male\":1,\n",
    "#                                                        \"Female\":0})"
   ]
  },
  {
   "cell_type": "code",
   "execution_count": 224,
   "id": "88a14622-18f8-4db7-97a9-4b791cc9c83f",
   "metadata": {},
   "outputs": [],
   "source": [
    "# df_train[\"count_present_boys_girls_ratio\"] = df_train[\"count_present_boys\"] / df_train[\"count_present_girls\"]\n",
    "# df_test[\"count_present_boys_girls_ratio\"] = df_test[\"count_present_boys\"] / df_test[\"count_present_girls\"]"
   ]
  },
  {
   "cell_type": "code",
   "execution_count": 225,
   "id": "a2d2f163-c0df-4f15-b539-e47de7bddb29",
   "metadata": {
    "tags": []
   },
   "outputs": [],
   "source": [
    "# Extracting  day and month from some datetime columns\n",
    "# datetime_columns = [\n",
    "#                      'child_enrolment_date',\n",
    "#                      'pqa_date',\n",
    "#                      'pra_date',\n",
    "#                      'obs_date',\n",
    "#                      'child_dob'\n",
    "#                     ]\n",
    "\n",
    "\n",
    "# df_train[datetime_columns] = df_train[datetime_columns].apply(lambda x:pd.to_datetime(x, yearfirst=True))\n",
    "# df_test[datetime_columns] = df_train[datetime_columns].apply(lambda x: pd.to_datetime(x, yearfirst=True))\n",
    "\n",
    "# # Extracting month\n",
    "# df_train[\"child_dob_month\"] = df_train[\"child_dob\"].dt.month\n",
    "# df_test[\"child_dob_month\"] = df_test[\"child_dob\"].dt.month\n",
    "\n",
    "# # Extracting day\n",
    "# df_train[\"child_dob_day\"] = df_train[\"child_dob\"].dt.day\n",
    "# df_test[\"child_dob_day\"] = df_test[\"child_dob\"].dt.day\n",
    "\n",
    "# # Converting \"child_enroll_month_column\" to datetime \n",
    "# df_train[\"child_enrolment_month\"] = df_train[\"child_enrolment_date\"].dt.month\n",
    "# df_test[\"child_enrolment_month\"] = df_test[\"child_enrolment_date\"].dt.month\n",
    "\n",
    "# df_train[\"child_enrolment_day\"] = df_train[\"child_enrolment_date\"].dt.month\n",
    "# df_test[\"child_enrolment_day\"] = df_test[\"child_enrolment_date\"].dt.month\n"
   ]
  },
  {
   "cell_type": "code",
   "execution_count": 226,
   "id": "74eea32a-4d7a-464e-91f7-617015b51478",
   "metadata": {},
   "outputs": [],
   "source": [
    "# df_train[\"child_age_height_ratio\"] = df_train[\"child_age\"] / df_train[\"child_height\"]\n",
    "# df_test[\"child_age_height_ratio\"] = df_test[\"child_age\"] / df_test[\"child_height\"]\n",
    "\n",
    "# df_train[\"child_zha_ag_height_ratio\"] = df_train[\"child_zha\"] / df_train[\"child_age_height_ratio\"]\n",
    "# df_test[\"child_zha_ag_height_ratio\"] = df_test[\"child_zha\"] / df_test[\"child_age_height_ratio\"]"
   ]
  },
  {
   "cell_type": "code",
   "execution_count": null,
   "id": "e586b4d2-d419-4042-85a4-aa33b8072431",
   "metadata": {},
   "outputs": [],
   "source": []
  },
  {
   "cell_type": "code",
   "execution_count": 227,
   "id": "bd0c5ed8-d61e-4c5a-a1e7-3411f8620268",
   "metadata": {},
   "outputs": [],
   "source": [
    "# id_columns = ['id_enumerator', 'id_facility', 'id_ward', 'id_team']\n",
    "# id_n_columns = ['id_facility_n', 'id_ward_n', 'id_mn_n', 'id_dc_n', 'id_prov_n']\n",
    "\n",
    "\n",
    "# df_train['count_id'] = df_train[id_columns].sum(axis=1)\n",
    "# df_test['count_id'] = df_test[id_columns].sum(axis=1)\n",
    "\n",
    "\n",
    "# df_train['count_id_n'] = df_train[id_n_columns].sum(axis=1)\n",
    "# df_test['count_id_n'] = df_test[id_n_columns].sum(axis=1)"
   ]
  },
  {
   "cell_type": "code",
   "execution_count": null,
   "id": "e02e7672-bde1-4e04-802f-7e65c7933fa6",
   "metadata": {},
   "outputs": [],
   "source": []
  },
  {
   "cell_type": "markdown",
   "id": "c300efef-a151-4cc6-b41f-9d4021e20d4e",
   "metadata": {},
   "source": [
    "# Machine Learning Algorithms"
   ]
  },
  {
   "cell_type": "code",
   "execution_count": null,
   "id": "9e6856d9-70db-4700-8452-aded074aabe1",
   "metadata": {},
   "outputs": [],
   "source": []
  },
  {
   "cell_type": "markdown",
   "id": "6f65a0f6-9b37-4358-aaba-b7e5126ab094",
   "metadata": {},
   "source": [
    "## Training with numerical columns only"
   ]
  },
  {
   "cell_type": "code",
   "execution_count": 228,
   "id": "59b89074-7211-4554-8e3b-b7eea7ff8866",
   "metadata": {},
   "outputs": [],
   "source": [
    "n_splits = 10\n",
    "\n",
    "kf = KFold(n_splits, shuffle=True, random_state=42)\n",
    "rkf = RepeatedKFold(n_splits=n_splits, n_repeats=2, random_state=42)"
   ]
  },
  {
   "cell_type": "code",
   "execution_count": 362,
   "id": "85f56964-6a67-41c8-a156-ac08faea77c9",
   "metadata": {},
   "outputs": [],
   "source": [
    "# # Cross validation\n",
    "def cross_validation(X, y, model, cv_method):\n",
    "    rmse_scores = list()\n",
    "    \n",
    "    # cv = cv_method(n_splits = N_SPLITS, n_repeats=5, random_state=1121218)\n",
    "    \n",
    "    for idx, (train_idx, test_idx) in enumerate(cv_method.split(X, y)):\n",
    "        \n",
    "        print(\"=\" * 12 + f\"Training fold {idx}\" + 12 * \"=\")\n",
    "        start = time.time()\n",
    "        \n",
    "        X_train, X_test = X.iloc[train_idx], X.iloc[test_idx]\n",
    "        y_train, y_test = y.iloc[train_idx], y.iloc[test_idx]\n",
    "        \n",
    "        # Making eval_set\n",
    "        eval_set = [(X_test.values, y_test)]\n",
    "\n",
    "        # Fitting the model to the data\n",
    "        model.fit(X_train.values, y_train,\n",
    "                 eval_set=eval_set,\n",
    "                 eval_metri=\"rmse\",\n",
    "                 early_stopping_rounds=100,\n",
    "                 verbose=False)\n",
    "\n",
    "        # Predictions\n",
    "        preds = model.predict(X_test)\n",
    "        \n",
    "        # Loss\n",
    "        rmse = mean_squared_error(y_test, preds, squared=False)\n",
    "        rmse_scores.append(rmse)\n",
    "        \n",
    "        runtime = time.time()-start\n",
    "        \n",
    "        print(f\"Fold {idx} finished with score: {rmse:.5f} in {runtime:.2f} seconds.\\n\")\n",
    "    \n",
    "    print(f\"Average score {np.mean(rmse_scores)}\")\n",
    "        \n",
    "    \n",
    "    return np.mean(rmse_scores), rmse_scores\n",
    "\n",
    "# rmse, cv_scores = cross_validation(X, y, hgbr, k_fold)"
   ]
  },
  {
   "cell_type": "code",
   "execution_count": 230,
   "id": "859733f8-5646-43da-b4bd-f331819b8dfc",
   "metadata": {},
   "outputs": [],
   "source": [
    "# Getting feature importances\n",
    "def get_feature_imp(model, imp_factor):\n",
    "    cols_imp = [(col,imp) for col, imp in zip(model.feature_name_, model.feature_importances_) if imp < imp_factor]\n",
    "    cols = [col for col, imp in zip(model.feature_name_, model.feature_importances_) if imp < imp_factor]\n",
    "    \n",
    "    return cols, cols_imp"
   ]
  },
  {
   "cell_type": "code",
   "execution_count": 231,
   "id": "9c51bbaa-71e2-4fd5-8126-252c4f3433ca",
   "metadata": {},
   "outputs": [],
   "source": [
    "def feature_imp_dataframe(model):\n",
    "    feature_imp = model.feature_importances_\n",
    "    columns = model.feature_name_\n",
    "\n",
    "    df_imp = pd.DataFrame(\n",
    "            {\"features\": columns,\n",
    "            \"feature_importance\": feature_imp}\n",
    "    )\n",
    "\n",
    "    df_imp.sort_values(by=['feature_importance'], ascending=False, inplace=True)\n",
    "    df_imp.reset_index(drop=True, inplace=True)\n",
    "    \n",
    "    return df_imp"
   ]
  },
  {
   "cell_type": "code",
   "execution_count": 232,
   "id": "75188030-9d45-4443-9043-a77285d75638",
   "metadata": {},
   "outputs": [],
   "source": [
    "def plot_feature_importance(df_feature_imp, n_imp_cols):\n",
    "    labels = df_feature_imp.iloc[:30, 0].values\n",
    "\n",
    "    plt.figure(figsize=(20, 6))\n",
    "    ax = df_feature_imp.iloc[:30, 1].\\\n",
    "        plot(kind=\"bar\", title=\"Feature Importance\")\n",
    "    ax.set_xticklabels(labels)\n",
    "    plt.show()"
   ]
  },
  {
   "cell_type": "markdown",
   "id": "3fcce471-1286-416b-8c96-96f544704d68",
   "metadata": {},
   "source": [
    "### Selecting numerical columns from df_train and df_test"
   ]
  },
  {
   "cell_type": "markdown",
   "id": "52c70066-2f41-4f7b-8d36-e311e870f34d",
   "metadata": {},
   "source": [
    "### Lightgbm"
   ]
  },
  {
   "cell_type": "code",
   "execution_count": 353,
   "id": "386295ef-10db-4227-835c-a7d70dbe97e7",
   "metadata": {},
   "outputs": [],
   "source": [
    "def train_model(estimator, params, X, y, X_val=None, y_val=None):\n",
    "\n",
    "    model = estimator(**params)\n",
    "    if X_val is not None:\n",
    "        \n",
    "        model. fit(X, y,\n",
    "                eval_set=[(X_val, y_val)],\n",
    "                eval_metric=\"rmse\",\n",
    "                early_stopping_rounds=100,\n",
    "                verbose=False)\n",
    "\n",
    "        print(model.best_score_)\n",
    "        return model\n",
    "    else:\n",
    "        model.fit(X_train, y_train)\n",
    "        return model"
   ]
  },
  {
   "cell_type": "code",
   "execution_count": 330,
   "id": "f9ac7090-1a16-4ea5-8083-136245497787",
   "metadata": {},
   "outputs": [],
   "source": [
    "def predict_output(model, data):\n",
    "    preds = model.predict(data)\n",
    "    return preds"
   ]
  },
  {
   "cell_type": "code",
   "execution_count": 275,
   "id": "12102dd9-e9cb-4960-bc5e-d9f16886927b",
   "metadata": {},
   "outputs": [],
   "source": [
    "# Selecting numerical columns\n",
    "train_int_cols = df_train.select_dtypes(include = [\"float64\", \"number\", \"Int64\", \"int64\"]).columns\n",
    "test_int_cols = df_test.select_dtypes(include = [\"float64\", \"number\", \"Int64\", \"int64\"]).columns\n",
    "\n",
    "# Numerical columns\n",
    "num_cols_df = list(set(test_int_cols).intersection(set(train_int_cols)))\n",
    "\n",
    "# Separating features and target\n",
    "X, y = df_train[num_cols_df].drop(columns=cols_list_drop_3), df_train[['target']]\n",
    "# X, y = df_train[num_cols_df].drop(columns=cols_list_2), df_train[['target']]"
   ]
  },
  {
   "cell_type": "code",
   "execution_count": 276,
   "id": "2195108b-817a-4663-b9d1-88f262cc5283",
   "metadata": {},
   "outputs": [
    {
     "data": {
      "text/plain": [
       "((8585, 150), (8585, 1))"
      ]
     },
     "execution_count": 276,
     "metadata": {},
     "output_type": "execute_result"
    }
   ],
   "source": [
    "X.shape, y.shape"
   ]
  },
  {
   "cell_type": "code",
   "execution_count": 332,
   "id": "ed85480a-7755-4ad7-b16d-967d111ee2cb",
   "metadata": {},
   "outputs": [],
   "source": [
    "# Pipeline for filling nan values and sacling the data\n",
    "def use_pipeline():\n",
    "    \n",
    "    pipeline = Pipeline([('imputer', IterativeImputer()), # Imputing missing values\n",
    "                     ('scaler', RobustScaler()),]) # Scaling the data\n",
    "\n",
    "    # Fitting pipeline of train and test data\n",
    "    train_x = pd.DataFrame(data=pipeline.fit_transform(X), columns=X.columns.to_list())\n",
    "    test_data = pd.DataFrame(data=pipeline.transform(test_data), columns=X.columns.to_list())\n",
    "    \n",
    "    return train, test"
   ]
  },
  {
   "cell_type": "code",
   "execution_count": 277,
   "id": "4756dfa7-ba2d-4b45-930d-f73bd0518fa4",
   "metadata": {},
   "outputs": [
    {
     "data": {
      "text/plain": [
       "(3680, 150)"
      ]
     },
     "execution_count": 277,
     "metadata": {},
     "output_type": "execute_result"
    }
   ],
   "source": [
    "# Test data\n",
    "test_data = df_test.loc[:, X.columns]\n",
    "test_data.shape"
   ]
  },
  {
   "cell_type": "code",
   "execution_count": 334,
   "id": "c919e4ba-2d36-4fec-80f7-60a266b146d5",
   "metadata": {},
   "outputs": [],
   "source": [
    "# train_x, test_ = use_pipeline()"
   ]
  },
  {
   "cell_type": "code",
   "execution_count": 278,
   "id": "5e75e188-3ebb-4b66-a8ff-9632e1558655",
   "metadata": {},
   "outputs": [
    {
     "name": "stdout",
     "output_type": "stream",
     "text": [
      "(7726, 158) (7726, 1)\n",
      "(859, 158) (859, 1)\n"
     ]
    }
   ],
   "source": [
    "X_train, X_test, y_train, y_test = train_test_split(train_x, y, test_size = 0.1, random_state =55)\n",
    "# X_train, X_test, y_train, y_test = train_test_split(X, y, test_size = 0.1, random_state =55)\n",
    "\n",
    "print(X_train.shape, y_train.shape)\n",
    "print(X_test.shape, y_test.shape)"
   ]
  },
  {
   "cell_type": "code",
   "execution_count": 279,
   "id": "eabf94bd-483a-4324-9642-e9897f6ccda0",
   "metadata": {},
   "outputs": [],
   "source": [
    "params_reg = {'learning_rate':0.01,\n",
    "         'objective':'regression',\n",
    "         'n_estimators':3000,\n",
    "         'num_leaves':35,\n",
    "         'max_bin':240,\n",
    "         'colsample_bytree':0.3,\n",
    "         'max_depth':9,\n",
    "         'min_child_samples':20,\n",
    "         'n_jobs':6,\n",
    "        'reg_alpha':0.01,\n",
    "         'random_state':42}\n",
    "\n",
    "params_tweedie = {'learning_rate':0.01,\n",
    "         'objective':'tweedie',\n",
    "         'n_estimators':4000,\n",
    "         'num_leaves':35,\n",
    "         'max_bin':240,\n",
    "         'colsample_bytree':0.3,\n",
    "         'max_depth':9,\n",
    "         'min_child_samples':20,\n",
    "         'n_jobs':6,\n",
    "         'random_state':42}"
   ]
  },
  {
   "cell_type": "code",
   "execution_count": 281,
   "id": "414dae46-4c8b-44bb-bd0c-53c6b98e8f57",
   "metadata": {},
   "outputs": [
    {
     "name": "stdout",
     "output_type": "stream",
     "text": [
      "defaultdict(<class 'collections.OrderedDict'>, {'valid_0': OrderedDict([('rmse', 9.627724380324523), ('l2', 92.69307674349523)])})\n"
     ]
    }
   ],
   "source": [
    "model = train_model(LGBMRegressor, params_reg, X_train, y_train, X_test, y_test)"
   ]
  },
  {
   "cell_type": "code",
   "execution_count": 273,
   "id": "088b5785-a1a1-4336-aec6-02e0fdde4a39",
   "metadata": {},
   "outputs": [
    {
     "name": "stdout",
     "output_type": "stream",
     "text": [
      "[34.49386685 30.46165061 53.35228212 49.9250945  28.48678123 46.93718381\n",
      " 39.54700813 59.64352429 40.37541512 51.01113479]\n"
     ]
    }
   ],
   "source": [
    "preds = predict_output(lgbm, X_test)\n",
    "print(preds[:10])"
   ]
  },
  {
   "cell_type": "code",
   "execution_count": 201,
   "id": "2a7a72c6-b2f5-48b2-b9fe-64455ab1c041",
   "metadata": {},
   "outputs": [
    {
     "data": {
      "text/plain": [
       "(['count_staff_contract_substitute',\n",
       "  'count_register_race_other',\n",
       "  'obs_cooking_4'],\n",
       " [('count_staff_contract_substitute', 3),\n",
       "  ('count_register_race_other', 3),\n",
       "  ('obs_cooking_4', 0)])"
      ]
     },
     "execution_count": 201,
     "metadata": {},
     "output_type": "execute_result"
    }
   ],
   "source": [
    "get_feature_imp(lgbm, 5)"
   ]
  },
  {
   "cell_type": "code",
   "execution_count": 327,
   "id": "5e390b70-3f4f-43a1-9339-83b60acd76e2",
   "metadata": {
    "tags": []
   },
   "outputs": [],
   "source": [
    "# pd.set_option(\"display.max_row\", None)\n",
    "# df_imp"
   ]
  },
  {
   "cell_type": "code",
   "execution_count": 328,
   "id": "7c5be002-44b4-4a0c-ad86-2a4b201c3856",
   "metadata": {},
   "outputs": [],
   "source": [
    "# df_imp = feature_imp_dataframe(lgbm)\n",
    "# plot_feature_importance(df_imp, 30)"
   ]
  },
  {
   "cell_type": "code",
   "execution_count": 204,
   "id": "2905b353-2b4b-481b-b4a5-ea54571cb531",
   "metadata": {},
   "outputs": [
    {
     "data": {
      "text/html": [
       "<style>#sk-container-id-3 {color: black;background-color: white;}#sk-container-id-3 pre{padding: 0;}#sk-container-id-3 div.sk-toggleable {background-color: white;}#sk-container-id-3 label.sk-toggleable__label {cursor: pointer;display: block;width: 100%;margin-bottom: 0;padding: 0.3em;box-sizing: border-box;text-align: center;}#sk-container-id-3 label.sk-toggleable__label-arrow:before {content: \"▸\";float: left;margin-right: 0.25em;color: #696969;}#sk-container-id-3 label.sk-toggleable__label-arrow:hover:before {color: black;}#sk-container-id-3 div.sk-estimator:hover label.sk-toggleable__label-arrow:before {color: black;}#sk-container-id-3 div.sk-toggleable__content {max-height: 0;max-width: 0;overflow: hidden;text-align: left;background-color: #f0f8ff;}#sk-container-id-3 div.sk-toggleable__content pre {margin: 0.2em;color: black;border-radius: 0.25em;background-color: #f0f8ff;}#sk-container-id-3 input.sk-toggleable__control:checked~div.sk-toggleable__content {max-height: 200px;max-width: 100%;overflow: auto;}#sk-container-id-3 input.sk-toggleable__control:checked~label.sk-toggleable__label-arrow:before {content: \"▾\";}#sk-container-id-3 div.sk-estimator input.sk-toggleable__control:checked~label.sk-toggleable__label {background-color: #d4ebff;}#sk-container-id-3 div.sk-label input.sk-toggleable__control:checked~label.sk-toggleable__label {background-color: #d4ebff;}#sk-container-id-3 input.sk-hidden--visually {border: 0;clip: rect(1px 1px 1px 1px);clip: rect(1px, 1px, 1px, 1px);height: 1px;margin: -1px;overflow: hidden;padding: 0;position: absolute;width: 1px;}#sk-container-id-3 div.sk-estimator {font-family: monospace;background-color: #f0f8ff;border: 1px dotted black;border-radius: 0.25em;box-sizing: border-box;margin-bottom: 0.5em;}#sk-container-id-3 div.sk-estimator:hover {background-color: #d4ebff;}#sk-container-id-3 div.sk-parallel-item::after {content: \"\";width: 100%;border-bottom: 1px solid gray;flex-grow: 1;}#sk-container-id-3 div.sk-label:hover label.sk-toggleable__label {background-color: #d4ebff;}#sk-container-id-3 div.sk-serial::before {content: \"\";position: absolute;border-left: 1px solid gray;box-sizing: border-box;top: 0;bottom: 0;left: 50%;z-index: 0;}#sk-container-id-3 div.sk-serial {display: flex;flex-direction: column;align-items: center;background-color: white;padding-right: 0.2em;padding-left: 0.2em;position: relative;}#sk-container-id-3 div.sk-item {position: relative;z-index: 1;}#sk-container-id-3 div.sk-parallel {display: flex;align-items: stretch;justify-content: center;background-color: white;position: relative;}#sk-container-id-3 div.sk-item::before, #sk-container-id-3 div.sk-parallel-item::before {content: \"\";position: absolute;border-left: 1px solid gray;box-sizing: border-box;top: 0;bottom: 0;left: 50%;z-index: -1;}#sk-container-id-3 div.sk-parallel-item {display: flex;flex-direction: column;z-index: 1;position: relative;background-color: white;}#sk-container-id-3 div.sk-parallel-item:first-child::after {align-self: flex-end;width: 50%;}#sk-container-id-3 div.sk-parallel-item:last-child::after {align-self: flex-start;width: 50%;}#sk-container-id-3 div.sk-parallel-item:only-child::after {width: 0;}#sk-container-id-3 div.sk-dashed-wrapped {border: 1px dashed gray;margin: 0 0.4em 0.5em 0.4em;box-sizing: border-box;padding-bottom: 0.4em;background-color: white;}#sk-container-id-3 div.sk-label label {font-family: monospace;font-weight: bold;display: inline-block;line-height: 1.2em;}#sk-container-id-3 div.sk-label-container {text-align: center;}#sk-container-id-3 div.sk-container {/* jupyter's `normalize.less` sets `[hidden] { display: none; }` but bootstrap.min.css set `[hidden] { display: none !important; }` so we also need the `!important` here to be able to override the default hidden behavior on the sphinx rendered scikit-learn.org. See: https://github.com/scikit-learn/scikit-learn/issues/21755 */display: inline-block !important;position: relative;}#sk-container-id-3 div.sk-text-repr-fallback {display: none;}</style><div id=\"sk-container-id-3\" class=\"sk-top-container\"><div class=\"sk-text-repr-fallback\"><pre>LGBMRegressor(colsample_bytree=0.3, learning_rate=0.01, max_bin=240,\n",
       "              max_depth=9, n_estimators=4000, n_jobs=6, num_leaves=35,\n",
       "              objective=&#x27;tweedie&#x27;, random_state=42)</pre><b>In a Jupyter environment, please rerun this cell to show the HTML representation or trust the notebook. <br />On GitHub, the HTML representation is unable to render, please try loading this page with nbviewer.org.</b></div><div class=\"sk-container\" hidden><div class=\"sk-item\"><div class=\"sk-estimator sk-toggleable\"><input class=\"sk-toggleable__control sk-hidden--visually\" id=\"sk-estimator-id-3\" type=\"checkbox\" checked><label for=\"sk-estimator-id-3\" class=\"sk-toggleable__label sk-toggleable__label-arrow\">LGBMRegressor</label><div class=\"sk-toggleable__content\"><pre>LGBMRegressor(colsample_bytree=0.3, learning_rate=0.01, max_bin=240,\n",
       "              max_depth=9, n_estimators=4000, n_jobs=6, num_leaves=35,\n",
       "              objective=&#x27;tweedie&#x27;, random_state=42)</pre></div></div></div></div></div>"
      ],
      "text/plain": [
       "LGBMRegressor(colsample_bytree=0.3, learning_rate=0.01, max_bin=240,\n",
       "              max_depth=9, n_estimators=4000, n_jobs=6, num_leaves=35,\n",
       "              objective='tweedie', random_state=42)"
      ]
     },
     "execution_count": 204,
     "metadata": {},
     "output_type": "execute_result"
    }
   ],
   "source": [
    "# Training the model on whole dataset\n",
    "lgbm = LGBMRegressor(**params_tweedie)\n",
    "lgbm.fit(train_x, y)"
   ]
  },
  {
   "cell_type": "code",
   "execution_count": null,
   "id": "51a4272b-6310-4dbb-9a66-3acfe9113771",
   "metadata": {},
   "outputs": [],
   "source": []
  },
  {
   "cell_type": "code",
   "execution_count": 208,
   "id": "ed570341-2a76-4955-8d9f-cd85400d39ca",
   "metadata": {},
   "outputs": [
    {
     "data": {
      "text/plain": [
       "array([73.08726897, 75.4914531 , 56.61901609, ..., 57.10064819,\n",
       "       69.23507404, 52.66858393])"
      ]
     },
     "execution_count": 208,
     "metadata": {},
     "output_type": "execute_result"
    }
   ],
   "source": [
    "# # Prediction on test set\n",
    "# test_data =  df_test[X.columns.to_list()]\n",
    "\n",
    "preds_reg_tweedie = lgbm.predict(test_data)\n",
    "preds_reg_tweedie"
   ]
  },
  {
   "cell_type": "code",
   "execution_count": 210,
   "id": "9a8b7723-2267-4fd9-a8f3-7e4a3e88a47f",
   "metadata": {},
   "outputs": [
    {
     "data": {
      "text/plain": [
       "-68784.45989040818"
      ]
     },
     "execution_count": 210,
     "metadata": {},
     "output_type": "execute_result"
    }
   ],
   "source": [
    "np.sum(np.abs(preds_reg_tweedie) - np.abs(preds_reg_tweedie_1))"
   ]
  },
  {
   "cell_type": "code",
   "execution_count": 207,
   "id": "d6770e54-4589-48e2-9e19-16510fea866d",
   "metadata": {},
   "outputs": [],
   "source": [
    "# # Creating a submissionfile\n",
    "# sub_file = pd.read_csv(\"GBRSubmission1_score_10.63.csv\")\n",
    "# sub_file.target = preds_reg_tweedie\n",
    "# sub_file.to_csv(\"LGBM_tweedie_2.csv\", index=False)"
   ]
  },
  {
   "cell_type": "code",
   "execution_count": null,
   "id": "7603ac0b-46a8-453f-bad4-bb9dbb18acb2",
   "metadata": {},
   "outputs": [],
   "source": []
  },
  {
   "cell_type": "markdown",
   "id": "9f928a41-8779-4341-8bca-08f097e8b61d",
   "metadata": {},
   "source": [
    "### Selecting common numerical features from train and test set"
   ]
  },
  {
   "cell_type": "code",
   "execution_count": 347,
   "id": "6674b9fb-e72a-4311-9d5e-efde5ae54b5a",
   "metadata": {},
   "outputs": [],
   "source": [
    "# Preprocess the data\n",
    "# train, test = preprocess_data(train, test)"
   ]
  },
  {
   "cell_type": "code",
   "execution_count": 348,
   "id": "f5050090-6057-4534-884a-7708cdd6c1d5",
   "metadata": {},
   "outputs": [],
   "source": [
    "train_int_cols = train.select_dtypes(include = [\"float64\", \"number\", \"Int64\", \"int64\"]).columns\n",
    "test_int_cols = test.select_dtypes(include = [\"float64\", \"number\", \"Int64\", \"int64\"]).columns\n",
    "\n",
    "# Numerical columns\n",
    "num_cols = list(set(test_int_cols).intersection(set(train_int_cols)))"
   ]
  },
  {
   "cell_type": "code",
   "execution_count": 349,
   "id": "5b58d725-6575-4213-be46-422c7a212694",
   "metadata": {},
   "outputs": [],
   "source": [
    "# Splitting features and target\n",
    "X, y = train[num_cols], train[['target']]"
   ]
  },
  {
   "cell_type": "code",
   "execution_count": 350,
   "id": "9db0ea38-9740-486f-9090-a66d3dba830d",
   "metadata": {},
   "outputs": [
    {
     "name": "stdout",
     "output_type": "stream",
     "text": [
      "(8585, 158) (8585, 1)\n"
     ]
    }
   ],
   "source": [
    "print(X.shape, y.shape)"
   ]
  },
  {
   "cell_type": "code",
   "execution_count": 351,
   "id": "e283d5fe-aedb-467c-bd75-d13b9dc4c6ef",
   "metadata": {},
   "outputs": [],
   "source": [
    "# train_x = pd.DataFrame(data=pipeline.fit_transform(X), columns=X.columns.to_list())"
   ]
  },
  {
   "cell_type": "code",
   "execution_count": 354,
   "id": "fcc99a9f-80e5-4034-a775-ed8a905fde07",
   "metadata": {},
   "outputs": [
    {
     "name": "stdout",
     "output_type": "stream",
     "text": [
      "defaultdict(<class 'collections.OrderedDict'>, {'valid_0': OrderedDict([('rmse', 9.540110969669945), ('tweedie', 27.576378403610224)])})\n",
      "defaultdict(<class 'collections.OrderedDict'>, {'valid_0': OrderedDict([('rmse', 9.472959295637873), ('l2', 89.736957816812)])})\n"
     ]
    }
   ],
   "source": [
    "# Splitting the data\n",
    "# X_train, X_test, y_train, y_test = train_test_split(train_x, y, test_size = 0.1, random_state =55)\n",
    "X_train, X_test, y_train, y_test = train_test_split(X, y, test_size = 0.1, random_state =55)\n",
    "\n",
    "# Training the model\n",
    "model_tweedie = train_model(LGBMRegressor, params_tweedie, X_train, y_train, X_test, y_test)\n",
    "model_reg = train_model(LGBMRegressor, params_reg, X_train, y_train, X_test, y_test)"
   ]
  },
  {
   "cell_type": "code",
   "execution_count": 356,
   "id": "260522f2-b6c8-40f9-8a08-1e06aacdd454",
   "metadata": {},
   "outputs": [
    {
     "name": "stdout",
     "output_type": "stream",
     "text": [
      "Columns:\n",
      " [('count_staff_contract_substitute', 4), ('obs_cooking_4', 0), ('obs_lighting_3', 2)]\n"
     ]
    }
   ],
   "source": [
    "cols, cols_imp = get_feature_imp(lgbm, 5)\n",
    "print(f\"Columns:\\n {cols_imp}\")"
   ]
  },
  {
   "cell_type": "code",
   "execution_count": 326,
   "id": "ffeb22a6-b273-4ee3-8635-d0e8a621b2af",
   "metadata": {},
   "outputs": [],
   "source": [
    "# df_imp = feature_imp_dataframe(lgbm)\n",
    "# plot_feature_importance(df_imp, 40)"
   ]
  },
  {
   "cell_type": "markdown",
   "id": "e1affc66-142b-4303-bb0c-c91313a1a4e2",
   "metadata": {},
   "source": [
    "## Catboost"
   ]
  },
  {
   "cell_type": "code",
   "execution_count": null,
   "id": "08291d05-bce9-4de8-8d5d-0efbc2f726a0",
   "metadata": {},
   "outputs": [],
   "source": []
  },
  {
   "cell_type": "code",
   "execution_count": null,
   "id": "e74ec6d4-c0a4-4dd0-8c7e-90374bb43de3",
   "metadata": {
    "collapsed": true,
    "jupyter": {
     "outputs_hidden": true
    },
    "tags": []
   },
   "outputs": [],
   "source": [
    "# cbr = CatBoostRegressor(eval_metric=\"RMSE\",learning_rate=0.01, n_estimators=1000, max)\n",
    "# cbr.fit(X_train, y_train,\n",
    "#        eval_set=[(X_test, y_test)],\n",
    "#        early_stopping_rounds=50)\n",
    "\n",
    "\n",
    "# def objective(trial: optuna.Trial) -> float:\n",
    "#     X_train, X_test, y_train, y_test = train_test_split(X, y, test_size = 0.1, random_state =55)\n",
    "\n",
    "#     param = {\n",
    "#         \"learning_rate\": trial.suggest_float(\"learning_rate\", 0.001, 0.2),\n",
    "#         \"colsample_bylevel\": trial.suggest_float(\"colsample_bylevel\", 0.01, 0.1, log=True),\n",
    "#         \"depth\": trial.suggest_int(\"depth\", 1, 12),\n",
    "#         \"min_child_samples\": trial.suggest_int(\"min_child_samples\", 20, 100, step = 5),\n",
    "#         \"boosting_type\": trial.suggest_categorical(\"boosting_type\", [\"Ordered\", \"Plain\"]),\n",
    "#         \"bootstrap_type\": trial.suggest_categorical(\n",
    "#             \"bootstrap_type\", [\"Bayesian\", \"Bernoulli\", \"MVS\"]\n",
    "#         ),\n",
    "#         \"eval_metric\": \"RMSE\",\n",
    "#     }\n",
    "\n",
    "#     if param[\"bootstrap_type\"] == \"Bayesian\":\n",
    "#         param[\"bagging_temperature\"] = trial.suggest_float(\"bagging_temperature\", 0, 10)\n",
    "#     elif param[\"bootstrap_type\"] == \"Bernoulli\":\n",
    "#         param[\"subsample\"] = trial.suggest_float(\"subsample\", 0.1, 1, log=True)\n",
    "\n",
    "#     cbr = CatBoostRegressor(**param)\n",
    "\n",
    "#     pruning_callback = CatBoostPruningCallback(trial, \"RMSE\")\n",
    "#     cbr.fit(\n",
    "#         X_train,\n",
    "#         y_train,\n",
    "#         eval_set=[(X_test, y_test)],\n",
    "#         verbose=0,\n",
    "#         early_stopping_rounds=100,\n",
    "#         callbacks=[pruning_callback],\n",
    "#     )\n",
    "\n",
    "#     # evoke pruning manually.\n",
    "#     pruning_callback.check_pruned()\n",
    "\n",
    "#     preds = cbr.predict(X_test)\n",
    "#     pred_labels = np.rint(preds)\n",
    "#     accuracy = mean_squared_error(y_test, pred_labels, squared=False)\n",
    "\n",
    "#     return accuracy\n",
    "\n",
    "\n",
    "# if __name__ == \"__main__\":\n",
    "#     study = optuna.create_study(\n",
    "#         pruner=optuna.pruners.MedianPruner(n_warmup_steps=5), direction=\"minimize\"\n",
    "#     )\n",
    "#     study.optimize(objective, n_trials=100, timeout=600)\n",
    "\n",
    "#     print(\"Number of finished trials: {}\".format(len(study.trials)))\n",
    "\n",
    "#     print(\"Best trial:\")\n",
    "#     trial = study.best_trial\n",
    "\n",
    "#     print(\"  Value: {}\".format(trial.value))\n",
    "\n",
    "#     print(\"  Params: \")\n",
    "#     for key, value in trial.params.items():\n",
    "#         print(\"    {}: {}\".format(key, value))\n",
    "\n",
    "# cbr = CatBoostRegressor(eval_metric=\"RMSE\",learning_rate=0.01)\n",
    "# cbr.fit(X, y)"
   ]
  },
  {
   "cell_type": "markdown",
   "id": "0734d8ab-552e-4977-be5a-3ad3475966e5",
   "metadata": {},
   "source": [
    "## Prediction on test dataset"
   ]
  },
  {
   "cell_type": "code",
   "execution_count": null,
   "id": "c28260d1-b090-4a55-8fea-efe1b48d6d71",
   "metadata": {},
   "outputs": [],
   "source": [
    "## Training on whole dataset\n",
    "lgbm.fit(X, y)"
   ]
  },
  {
   "cell_type": "code",
   "execution_count": null,
   "id": "c2695541-e0df-4891-92d2-ee0a5346cb53",
   "metadata": {},
   "outputs": [],
   "source": [
    "lgbm_preds_new_feat1"
   ]
  },
  {
   "cell_type": "markdown",
   "id": "260af3c7-1588-4a2f-829c-f4c747ed3cbb",
   "metadata": {},
   "source": [
    "## Making Submission filr"
   ]
  },
  {
   "cell_type": "code",
   "execution_count": null,
   "id": "6bd47ccf-a238-47a2-9699-21604e7d83e4",
   "metadata": {},
   "outputs": [],
   "source": [
    "import eli5"
   ]
  },
  {
   "cell_type": "code",
   "execution_count": null,
   "id": "fd58c355-224c-40f4-b02c-922ac28f43e4",
   "metadata": {},
   "outputs": [],
   "source": [
    "test_data = test[num_cols].drop(columns=low_imp_col, axis=1)"
   ]
  },
  {
   "cell_type": "code",
   "execution_count": null,
   "id": "4ad16098-657c-4ff7-86db-8ef262545e2e",
   "metadata": {},
   "outputs": [],
   "source": [
    "# sub_file = pd.read_csv(\"GBRSubmission1_score_10.63.csv\")\n",
    "# sub_file.target = lgbm_preds_drop_cols\n",
    "# sub_file.to_csv(\"LGBMSubmission_lgb_preds_drop_cols.csv\", index=False)"
   ]
  },
  {
   "cell_type": "code",
   "execution_count": null,
   "id": "9ef22661-5cef-4ea8-bf10-d5a2e2f138a0",
   "metadata": {},
   "outputs": [],
   "source": []
  }
 ],
 "metadata": {
  "kernelspec": {
   "display_name": "Python 3 (ipykernel)",
   "language": "python",
   "name": "python3"
  },
  "language_info": {
   "codemirror_mode": {
    "name": "ipython",
    "version": 3
   },
   "file_extension": ".py",
   "mimetype": "text/x-python",
   "name": "python",
   "nbconvert_exporter": "python",
   "pygments_lexer": "ipython3",
   "version": "3.9.12"
  }
 },
 "nbformat": 4,
 "nbformat_minor": 5
}
